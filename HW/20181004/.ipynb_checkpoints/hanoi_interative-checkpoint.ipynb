{
 "cells": [
  {
   "cell_type": "code",
   "execution_count": 6,
   "metadata": {},
   "outputs": [
    {
     "name": "stdout",
     "output_type": "stream",
     "text": [
      "3 0:00:00.000015\n",
      "8 0:00:00.000151\n",
      "13 0:00:00.004239\n",
      "18 0:00:00.142215\n",
      "23 0:00:04.510520\n",
      "28 0:02:19.365347\n"
     ]
    }
   ],
   "source": [
    "import datetime\n",
    "\n",
    "def hanoiH(n, a, b, c):\n",
    "    \n",
    "    param2 = [[n, a, b, c]]\n",
    "\n",
    "    while param2:\n",
    "        m, pa, pb, pc = param2.pop()\n",
    "        \n",
    "        param1 = []\n",
    "        while True:\n",
    "            if m == 1:\n",
    "                #print(pa, pc) # hanoiH(1, A, B, C)\n",
    "                \n",
    "                # hanoiH(m - 1, A, C, B) is completed\n",
    "                leng = len(param2)\n",
    "                while param1:\n",
    "                    m = m + 1\n",
    "                    sa, sb, sc = param1.pop() \n",
    "                    \n",
    "                    # hanoiH(m - 1, B, A, C)\n",
    "                    param2.insert(leng, [m - 1, sb, sa, sc])\n",
    "                      \n",
    "                if param2:\n",
    "                    _, mb, ma, mc = param2[-1] \n",
    "                    #print(ma, mc) # move A to C\n",
    "                \n",
    "                break\n",
    "            \n",
    "            param1.append([pa, pb, pc])\n",
    "            # hanoi(m - 1, A, C, B)\n",
    "            m = m - 1\n",
    "            pa, pb, pc = pa, pc, pb\n",
    "    \n",
    "    \n",
    "    \n",
    "    \n",
    "n = 3\n",
    "while n < 29:\n",
    "    start = datetime.datetime.now()\n",
    "    hanoiH(n, 'A', 'B', 'C')\n",
    "    end = datetime.datetime.now()\n",
    "    print(n,end-start)\n",
    "    n = n + 5\n"
   ]
  },
  {
   "cell_type": "code",
   "execution_count": 1,
   "metadata": {},
   "outputs": [
    {
     "name": "stdout",
     "output_type": "stream",
     "text": [
      "Hello\n"
     ]
    }
   ],
   "source": [
    "print(\"Hello\")"
   ]
  },
  {
   "cell_type": "code",
   "execution_count": null,
   "metadata": {
    "collapsed": true
   },
   "outputs": [],
   "source": []
  }
 ],
 "metadata": {
  "kernelspec": {
   "display_name": "Python 3",
   "language": "python",
   "name": "python3"
  },
  "language_info": {
   "codemirror_mode": {
    "name": "ipython",
    "version": 3
   },
   "file_extension": ".py",
   "mimetype": "text/x-python",
   "name": "python",
   "nbconvert_exporter": "python",
   "pygments_lexer": "ipython3",
   "version": "3.6.3"
  }
 },
 "nbformat": 4,
 "nbformat_minor": 2
}
