{
 "cells": [
  {
   "cell_type": "code",
   "execution_count": 12,
   "metadata": {},
   "outputs": [
    {
     "name": "stdout",
     "output_type": "stream",
     "text": [
      "3 個盤子\n",
      "盤由 A 移至 C\n",
      "盤由 A 移至 B\n",
      "盤由 C 移至 B\n",
      "盤由 A 移至 C\n",
      "盤由 B 移至 A\n",
      "盤由 B 移至 C\n",
      "盤由 A 移至 C\n"
     ]
    },
    {
     "ename": "NameError",
     "evalue": "name 'tEndD' is not defined",
     "output_type": "error",
     "traceback": [
      "\u001b[0;31m---------------------------------------------------------------------------\u001b[0m",
      "\u001b[0;31mNameError\u001b[0m                                 Traceback (most recent call last)",
      "\u001b[0;32m<ipython-input-12-eba5b9c242c9>\u001b[0m in \u001b[0;36m<module>\u001b[0;34m()\u001b[0m\n\u001b[1;32m     18\u001b[0m         \u001b[0mprint\u001b[0m\u001b[0;34m(\u001b[0m\u001b[0;34m\"盤由 %c 移至 %c\"\u001b[0m \u001b[0;34m%\u001b[0m \u001b[0mmove\u001b[0m\u001b[0;34m)\u001b[0m\u001b[0;34m\u001b[0m\u001b[0m\n\u001b[1;32m     19\u001b[0m     \u001b[0mtEnd\u001b[0m \u001b[0;34m=\u001b[0m \u001b[0mdatetime\u001b[0m\u001b[0;34m.\u001b[0m\u001b[0mdatetime\u001b[0m\u001b[0;34m.\u001b[0m\u001b[0mnow\u001b[0m\u001b[0;34m(\u001b[0m\u001b[0;34m)\u001b[0m\u001b[0;34m\u001b[0m\u001b[0m\n\u001b[0;32m---> 20\u001b[0;31m     \u001b[0mprint\u001b[0m\u001b[0;34m(\u001b[0m\u001b[0;34m\"遞迴轉換運行時間: \"\u001b[0m\u001b[0;34m,\u001b[0m\u001b[0mtEndD\u001b[0m \u001b[0;34m-\u001b[0m \u001b[0mtStartD\u001b[0m\u001b[0;34m,\u001b[0m \u001b[0;34m\"\\n\"\u001b[0m\u001b[0;34m)\u001b[0m\u001b[0;34m\u001b[0m\u001b[0m\n\u001b[0m\u001b[1;32m     21\u001b[0m     \u001b[0mn\u001b[0m \u001b[0;34m=\u001b[0m \u001b[0mn\u001b[0m \u001b[0;34m+\u001b[0m \u001b[0;36m5\u001b[0m\u001b[0;34m\u001b[0m\u001b[0m\n\u001b[1;32m     22\u001b[0m \u001b[0;34m\u001b[0m\u001b[0m\n",
      "\u001b[0;31mNameError\u001b[0m: name 'tEndD' is not defined"
     ]
    }
   ],
   "source": [
    "import datetime\n",
    "\n",
    "def hanoi(n, A, B, C):\n",
    "    if n == 1:\n",
    "        return [(A, C)]\n",
    "    else:\n",
    "        return hanoi(n-1, A, C, B) + hanoi(1, A, B, C) + hanoi(n-1, B, A, C)\n",
    "\n",
    "    \n",
    "\n",
    "#n = input(\"請輸入整數：\")\n",
    "n = 3\n",
    "\n",
    "while n < 14:\n",
    "    print(n,\"個盤子\")\n",
    "    tStart = datetime.datetime.now()\n",
    "    for move in hanoi(int(n), 'A', 'B', 'C'):\n",
    "        print(\"盤由 %c 移至 %c\" % move)\n",
    "    tEnd = datetime.datetime.now()\n",
    "    print(\"運行時間: \",tEnd - tStart, \"\\n\")\n",
    "    n = n + 5\n",
    "        "
   ]
  },
  {
   "cell_type": "code",
   "execution_count": null,
   "metadata": {
    "collapsed": true
   },
   "outputs": [],
   "source": []
  }
 ],
 "metadata": {
  "kernelspec": {
   "display_name": "Python 3",
   "language": "python",
   "name": "python3"
  },
  "language_info": {
   "codemirror_mode": {
    "name": "ipython",
    "version": 3
   },
   "file_extension": ".py",
   "mimetype": "text/x-python",
   "name": "python",
   "nbconvert_exporter": "python",
   "pygments_lexer": "ipython3",
   "version": "3.6.3"
  }
 },
 "nbformat": 4,
 "nbformat_minor": 2
}
