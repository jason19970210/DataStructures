{
 "cells": [
  {
   "cell_type": "code",
   "execution_count": null,
   "metadata": {},
   "outputs": [],
   "source": [
    "# -*- coding: utf-8 -*-\n",
    "\n",
    "import datetime\n",
    "\n",
    "i = 0\n",
    "convertString = \"0123456789ABCDEFGHIJKLMNOPQRSTUVWXYZ\"\n",
    "\n",
    "\n",
    "\n",
    "# --- def ---\n",
    "# --- 遞迴 ---\n",
    "def convD(n,b):\n",
    " \n",
    "    if n < b:\n",
    "        return convertString[n]\n",
    "    else:\n",
    "        return convD(n//b,b) + convertString[n%b]\n",
    "\n",
    "\n",
    "# --- 迴圈 ---\n",
    "def convH(n,b):\n",
    "    \n",
    "    q = ''\n",
    "\n",
    "    while n > 0:\n",
    "        if n >= b:\n",
    "            q += convertString[n%b]\n",
    "            n = n // b\n",
    "        \n",
    "            #print(\"n = \",n)\n",
    "            #print(\"q = \",q)\n",
    "        elif n // b < b:\n",
    "            q += convertString[n%b]\n",
    "            #print(q)\n",
    "            r = list(q)\n",
    "            r.reverse()\n",
    "            a = ''.join(r)\n",
    "            return a\n",
    "    \n",
    "\n",
    "\n",
    "# --- Loop for 5 inputs & results ---\n",
    "while i < 5:\n",
    "    \n",
    "    i += 1\n",
    "    print(\"第\",i,\"筆資料\")\n",
    "    \n",
    "    n = int(input(\"請輸入十進制正整數: \"))\n",
    "    b = int(input(\"請輸入欲轉換進制: \"))\n",
    "    \n",
    "    \n",
    "    tStartD = datetime.datetime.now()\n",
    "    print(n,\"(10) ->\",convD(n,b),\"(\",b,\")\")\n",
    "    tEndD = datetime.datetime.now()\n",
    "    print(\"遞迴轉換運行時間: \",tEndD - tStartD, \"\\n\")\n",
    "\n",
    "    tStartH = datetime.datetime.now()\n",
    "    print(n,\"(10) ->\",convH(n,b),\"(\",b,\")\")\n",
    "    tEndH = datetime.datetime.now()\n",
    "    print(\"迴圈轉換運行時間: \",tEndH - tStartH, \"\\n\")\n"
   ]
  },
  {
   "cell_type": "code",
   "execution_count": null,
   "metadata": {
    "collapsed": true
   },
   "outputs": [],
   "source": []
  }
 ],
 "metadata": {
  "kernelspec": {
   "display_name": "Python 3",
   "language": "python",
   "name": "python3"
  },
  "language_info": {
   "codemirror_mode": {
    "name": "ipython",
    "version": 3
   },
   "file_extension": ".py",
   "mimetype": "text/x-python",
   "name": "python",
   "nbconvert_exporter": "python",
   "pygments_lexer": "ipython3",
   "version": "3.6.3"
  }
 },
 "nbformat": 4,
 "nbformat_minor": 2
}
