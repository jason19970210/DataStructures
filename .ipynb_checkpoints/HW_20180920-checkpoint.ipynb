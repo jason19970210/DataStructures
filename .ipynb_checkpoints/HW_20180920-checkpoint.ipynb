{
 "cells": [
  {
   "cell_type": "code",
   "execution_count": null,
   "metadata": {},
   "outputs": [],
   "source": [
    "import time\n",
    "\n",
    "i = 0\n",
    "convertString = \"0123456789ABCDEFGHIJKLMNOPQRSTUVWXYZ\"\n",
    "a = []\n",
    "\n",
    "\n",
    "# --- Loop for 5 inputs & results ---\n",
    "while i < 5:\n",
    "    \n",
    "    i += 1\n",
    "    print(\"第\",i,\"筆資料\")\n",
    "    \n",
    "    n = int(input(\"請輸入十進制正整數: \"))\n",
    "    b = int(input(\"base: \"))\n",
    "    \n",
    "    \n",
    "    tStartD = time.time()\n",
    "    print(n,\"(10) ->\",convD(n,b),\"(\",b,\")\")\n",
    "    tEndD = time.time()\n",
    "    print (\"遞迴轉換共花 \",tEndD - tStartD,\" 秒\", \"\\n\")\n",
    "    \n",
    "    \n",
    "    \n",
    "    \n",
    "# --- def ---\n",
    "\n",
    "    # --- 遞迴 ---\n",
    "def convD(n,b):\n",
    "    \n",
    "    if n < b:\n",
    "        return convertString[n]\n",
    "    else:\n",
    "        return convD(n//b,b) + convertString[n%b]\n",
    "    \n",
    "    \n",
    "    # --- 迴圈 ---\n",
    "def convH(n,b):\n",
    "    \n",
    "    q = n / b\n",
    "    r = n % b\n",
    "    print('%d,%d' % (q,r))\n",
    "        \n",
    "\n",
    "\n",
    "\n",
    "\n",
    "\n",
    "\n"
   ]
  }
 ],
 "metadata": {
  "kernelspec": {
   "display_name": "Python 3",
   "language": "python",
   "name": "python3"
  },
  "language_info": {
   "codemirror_mode": {
    "name": "ipython",
    "version": 3
   },
   "file_extension": ".py",
   "mimetype": "text/x-python",
   "name": "python",
   "nbconvert_exporter": "python",
   "pygments_lexer": "ipython3",
   "version": "3.6.3"
  }
 },
 "nbformat": 4,
 "nbformat_minor": 2
}
