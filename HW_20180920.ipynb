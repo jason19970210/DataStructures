{
 "cells": [
  {
   "cell_type": "code",
   "execution_count": 38,
   "metadata": {},
   "outputs": [
    {
     "name": "stdout",
     "output_type": "stream",
     "text": [
      "請輸入十進制: 30\n",
      "請輸入欲轉換進制: 17\n",
      "1D\n"
     ]
    }
   ],
   "source": [
    "n = int(input(\"請輸入十進制: \"))\n",
    "b = int(input(\"請輸入欲轉換進制: \"))\n",
    "\n",
    "def conv(n,b):\n",
    "    convertString = \"0123456789ABCDEFGHIJKLMNOP\"\n",
    "    \n",
    "    if n < b:\n",
    "        return convertString[n]\n",
    "    else:\n",
    "        return conv(n//b,b) + convertString[n%b]\n",
    "    \n",
    "print(conv(n,b))"
   ]
  },
  {
   "cell_type": "code",
   "execution_count": null,
   "metadata": {
    "collapsed": true
   },
   "outputs": [],
   "source": []
  }
 ],
 "metadata": {
  "kernelspec": {
   "display_name": "Python 3",
   "language": "python",
   "name": "python3"
  },
  "language_info": {
   "codemirror_mode": {
    "name": "ipython",
    "version": 3
   },
   "file_extension": ".py",
   "mimetype": "text/x-python",
   "name": "python",
   "nbconvert_exporter": "python",
   "pygments_lexer": "ipython3",
   "version": "3.6.3"
  }
 },
 "nbformat": 4,
 "nbformat_minor": 2
}
