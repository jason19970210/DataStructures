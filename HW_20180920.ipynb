{
 "cells": [
  {
   "cell_type": "code",
   "execution_count": null,
   "metadata": {},
   "outputs": [],
   "source": [
    "import time\n",
    "\n",
    "n = int(input(\"請輸入十進制正整數: \"))\n",
    "b = int(input(\"base: \"))\n",
    "convertString = \"0123456789ABCDEFGHIJKLMNOP\"\n",
    "\n",
    "\n",
    "tStartD = time.time()\n",
    "\n",
    "\n",
    "def convD(n,b):\n",
    "    \n",
    "    if n < b:\n",
    "        return convertString[n]\n",
    "    else:\n",
    "        return convD(n//b,b) + convertString[n%b]\n",
    "    \n",
    "\n",
    "#str = 'x 的值为： ' + repr(x) + ',  y 的值为：' + repr(y) + '...'\n",
    "print(n,\"(10) ->\",convD(n,b),\"(\",b,\")\")\n",
    "tEndD = time.time()\n",
    "print (\"Cost \",tEndD - tStartD,\" sec\")\n",
    "\n",
    "\n",
    "\n",
    "\n"
   ]
  },
  {
   "cell_type": "code",
   "execution_count": null,
   "metadata": {},
   "outputs": [],
   "source": [
    "q = n/b\n",
    "r = n%b\n",
    "\n",
    "print('%d,%d' % (q,r))\n",
    "        "
   ]
  },
  {
   "cell_type": "code",
   "execution_count": null,
   "metadata": {
    "collapsed": true
   },
   "outputs": [],
   "source": []
  }
 ],
 "metadata": {
  "kernelspec": {
   "display_name": "Python 3",
   "language": "python",
   "name": "python3"
  },
  "language_info": {
   "codemirror_mode": {
    "name": "ipython",
    "version": 3
   },
   "file_extension": ".py",
   "mimetype": "text/x-python",
   "name": "python",
   "nbconvert_exporter": "python",
   "pygments_lexer": "ipython3",
   "version": "3.6.3"
  }
 },
 "nbformat": 4,
 "nbformat_minor": 2
}
