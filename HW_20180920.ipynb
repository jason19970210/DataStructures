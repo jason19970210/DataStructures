{
 "cells": [
  {
   "cell_type": "code",
   "execution_count": 42,
   "metadata": {},
   "outputs": [
    {
     "name": "stdout",
     "output_type": "stream",
     "text": [
      "請輸入十進制: 100\n",
      "請輸入欲轉換進制: 2\n",
      "1100100\n",
      "0.0002918243408203125\n"
     ]
    }
   ],
   "source": [
    "\n",
    "import time\n",
    "\n",
    "n = int(input(\"請輸入十進制: \"))\n",
    "b = int(input(\"請輸入欲轉換進制: \"))\n",
    "convertString = \"0123456789ABCDEFGHIJKLMNOP\"\n",
    "\n",
    "\n",
    "tStartD = time.time()\n",
    "\n",
    "\n",
    "\n",
    "def convD(n,b):\n",
    "    \n",
    "    if n < b:\n",
    "        return convertString[n]\n",
    "    else:\n",
    "        return conv(n//b,b) + convertString[n%b]\n",
    "    \n",
    "    \n",
    "print(convD(n,b))\n",
    "tEndD = time.time()\n",
    "print (tEndD - tStartD)\n",
    "    \n",
    "def convH(n,b):\n",
    "    \n",
    "    while n/b < b\n",
    "    \n",
    "\n",
    "\n",
    "\n",
    "\n"
   ]
  },
  {
   "cell_type": "code",
   "execution_count": 70,
   "metadata": {},
   "outputs": [
    {
     "name": "stdout",
     "output_type": "stream",
     "text": [
      "n1: 100\n",
      "b1: 3\n",
      "33,1\n"
     ]
    }
   ],
   "source": [
    "n1 = int(input(\"n1: \"))  #初始值\n",
    "b1 = int(input(\"b1: \"))\n",
    "\n",
    "q = n1/b1\n",
    "r = n1%b1\n",
    "\n",
    "print('%d,%d' % (q,r))\n",
    "        "
   ]
  },
  {
   "cell_type": "code",
   "execution_count": null,
   "metadata": {
    "collapsed": true
   },
   "outputs": [],
   "source": []
  }
 ],
 "metadata": {
  "kernelspec": {
   "display_name": "Python 3",
   "language": "python",
   "name": "python3"
  },
  "language_info": {
   "codemirror_mode": {
    "name": "ipython",
    "version": 3
   },
   "file_extension": ".py",
   "mimetype": "text/x-python",
   "name": "python",
   "nbconvert_exporter": "python",
   "pygments_lexer": "ipython3",
   "version": "3.6.3"
  }
 },
 "nbformat": 4,
 "nbformat_minor": 2
}
