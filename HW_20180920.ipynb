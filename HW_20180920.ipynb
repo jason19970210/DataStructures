{
 "cells": [
  {
   "cell_type": "code",
   "execution_count": 16,
   "metadata": {},
   "outputs": [
    {
     "name": "stdout",
     "output_type": "stream",
     "text": [
      "第 1 筆資料\n",
      "請輸入十進制正整數: 1000\n",
      "base: 3\n",
      "1000 (10) -> 1101001 ( 3 )\n",
      "遞迴轉換運行時間:  0:00:00.000891 \n",
      "\n",
      "第 2 筆資料\n",
      "請輸入十進制正整數: 100\n",
      "base: 3\n",
      "100 (10) -> 10201 ( 3 )\n",
      "遞迴轉換運行時間:  0:00:00.000301 \n",
      "\n",
      "第 3 筆資料\n",
      "請輸入十進制正整數: 1000000\n",
      "base: 4\n",
      "1000000 (10) -> 3310021000 ( 4 )\n",
      "遞迴轉換運行時間:  0:00:00.000305 \n",
      "\n",
      "第 4 筆資料\n",
      "請輸入十進制正整數: 1000303\n",
      "base: 2\n",
      "1000303 (10) -> 11110100001101101111 ( 2 )\n",
      "遞迴轉換運行時間:  0:00:00.000309 \n",
      "\n",
      "第 5 筆資料\n",
      "請輸入十進制正整數: 1000\n",
      "base: 3\n",
      "1000 (10) -> 1101001 ( 3 )\n",
      "遞迴轉換運行時間:  0:00:00.000306 \n",
      "\n"
     ]
    }
   ],
   "source": [
    "import datetime\n",
    "\n",
    "i = 0\n",
    "convertString = \"0123456789ABCDEFGHIJKLMNOPQRSTUVWXYZ\"\n",
    "a = []\n",
    "\n",
    "\n",
    "# --- def ---\n",
    "\n",
    "# --- 遞迴 ---\n",
    "def convD(n,b):\n",
    "    \n",
    "    if n < b:\n",
    "        return convertString[n]\n",
    "    else:\n",
    "        return convD(n//b,b) + convertString[n%b]\n",
    "\n",
    "# --- 迴圈 ---\n",
    "def convH(n,b):\n",
    "    \n",
    "    q = n / b\n",
    "    r = n % b\n",
    "    \n",
    "\n",
    "\n",
    "\n",
    "\n",
    "\n",
    "\n",
    "\n",
    "# --- Loop for 5 inputs & results ---\n",
    "while i < 5:\n",
    "    \n",
    "    i += 1\n",
    "    print(\"第\",i,\"筆資料\")\n",
    "    \n",
    "    n = int(input(\"請輸入十進制正整數: \"))\n",
    "    b = int(input(\"base: \"))\n",
    "    \n",
    "    \n",
    "    tStartD = datetime.datetime.now()\n",
    "    print(n,\"(10) ->\",convD(n,b),\"(\",b,\")\")\n",
    "    tEndD = datetime.datetime.now()\n",
    "    print (\"遞迴轉換運行時間: \",tEndD - tStartD, \"\\n\")\n"
   ]
  },
  {
   "cell_type": "code",
   "execution_count": null,
   "metadata": {
    "collapsed": true
   },
   "outputs": [],
   "source": []
  }
 ],
 "metadata": {
  "kernelspec": {
   "display_name": "Python 3",
   "language": "python",
   "name": "python3"
  },
  "language_info": {
   "codemirror_mode": {
    "name": "ipython",
    "version": 3
   },
   "file_extension": ".py",
   "mimetype": "text/x-python",
   "name": "python",
   "nbconvert_exporter": "python",
   "pygments_lexer": "ipython3",
   "version": "3.6.3"
  }
 },
 "nbformat": 4,
 "nbformat_minor": 2
}
